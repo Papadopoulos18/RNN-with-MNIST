{
  "nbformat": 4,
  "nbformat_minor": 0,
  "metadata": {
    "colab": {
      "name": "RNN with MNIST.ipynb",
      "provenance": [],
      "toc_visible": true,
      "authorship_tag": "ABX9TyM11BBagxyeUw5ifZiG0y8u",
      "include_colab_link": true
    },
    "kernelspec": {
      "name": "python3",
      "display_name": "Python 3"
    },
    "accelerator": "GPU"
  },
  "cells": [
    {
      "cell_type": "markdown",
      "metadata": {
        "id": "view-in-github",
        "colab_type": "text"
      },
      "source": [
        "<a href=\"https://colab.research.google.com/github/Papadopoulos18/RNN-with-MNIST/blob/main/RNN_with_MNIST.ipynb\" target=\"_parent\"><img src=\"https://colab.research.google.com/assets/colab-badge.svg\" alt=\"Open In Colab\"/></a>"
      ]
    },
    {
      "cell_type": "code",
      "metadata": {
        "colab": {
          "base_uri": "https://localhost:8080/"
        },
        "id": "_vG1RBJkMkgw",
        "outputId": "f727790c-bc48-4533-ae34-00d14c33874e"
      },
      "source": [
        "import tensorflow as tf\r\n",
        "from tensorflow.keras.models import Sequential\r\n",
        "from tensorflow.keras.layers import Dense, Dropout, LSTM\r\n",
        "\r\n",
        "mnist = tf.keras.datasets.mnist  # mnist is a dataset of 28x28 images of handwritten digits and their labels\r\n",
        "(x_train, y_train),(x_test, y_test) = mnist.load_data()  # unpacks images to x_train/x_test and labels to y_train/y_test\r\n",
        "\r\n",
        "x_train = x_train/255.0\r\n",
        "x_test = x_test/255.0\r\n"
      ],
      "execution_count": 1,
      "outputs": [
        {
          "output_type": "stream",
          "text": [
            "Downloading data from https://storage.googleapis.com/tensorflow/tf-keras-datasets/mnist.npz\n",
            "11493376/11490434 [==============================] - 1s 0us/step\n"
          ],
          "name": "stdout"
        }
      ]
    },
    {
      "cell_type": "code",
      "metadata": {
        "colab": {
          "base_uri": "https://localhost:8080/"
        },
        "id": "PgjKqhHhRasi",
        "outputId": "c005fd4c-41f3-44ab-aece-2d5d4676613f"
      },
      "source": [
        "print(x_train.shape,x_train[0].shape, y_test.shape)"
      ],
      "execution_count": 2,
      "outputs": [
        {
          "output_type": "stream",
          "text": [
            "(60000, 28, 28) (28, 28) (10000,)\n"
          ],
          "name": "stdout"
        }
      ]
    },
    {
      "cell_type": "markdown",
      "metadata": {
        "id": "5eeGVbt9SqQe"
      },
      "source": [
        "# What is the goal of the RNN on our dataset:\r\n",
        "\r\n",
        "So each number is represented by a 28x28 image. The RNN will read each image row by row and will try to predict which number is represented in the image, JUST by reading rows."
      ]
    },
    {
      "cell_type": "code",
      "metadata": {
        "colab": {
          "base_uri": "https://localhost:8080/"
        },
        "id": "F1MxY7krRt4s",
        "outputId": "8b2d8cf7-0d79-4fcc-d25c-a3a2157eb3e5"
      },
      "source": [
        "model = Sequential()\r\n",
        "model.add(LSTM(128, input_shape=(x_train.shape[1:]), activation='relu', return_sequences=True))\r\n",
        "model.add(Dropout(0.2))\r\n",
        "\r\n",
        "model.add(LSTM(128, activation='relu'))\r\n",
        "model.add(Dropout(0.1))\r\n",
        "\r\n",
        "model.add(Dense(32, activation='relu'))\r\n",
        "model.add(Dropout(0.2))\r\n",
        "\r\n",
        "model.add(Dense(10, activation='softmax'))\r\n",
        "\r\n",
        "opt = tf.keras.optimizers.Adam(learning_rate=1e-3, decay= 1e-5) # decay: its \r\n",
        "# helping learning rate to make smaller steps, and not big so that it misses the \r\n",
        "# optimal minimum\r\n",
        "\r\n",
        "model.compile(\r\n",
        "    loss='sparse_categorical_crossentropy',\r\n",
        "    optimizer=opt,\r\n",
        "    metrics=['accuracy'],\r\n",
        ")\r\n",
        "\r\n",
        "model.fit(x_train,\r\n",
        "          y_train,\r\n",
        "          epochs=3,\r\n",
        "          validation_data=(x_test, y_test))\r\n",
        "\r\n",
        "\r\n",
        "\r\n"
      ],
      "execution_count": 4,
      "outputs": [
        {
          "output_type": "stream",
          "text": [
            "WARNING:tensorflow:Layer lstm will not use cuDNN kernel since it doesn't meet the cuDNN kernel criteria. It will use generic GPU kernel as fallback when running on GPU\n",
            "WARNING:tensorflow:Layer lstm_1 will not use cuDNN kernel since it doesn't meet the cuDNN kernel criteria. It will use generic GPU kernel as fallback when running on GPU\n",
            "Epoch 1/3\n",
            "1875/1875 [==============================] - 61s 31ms/step - loss: 1.0483 - accuracy: 0.6354 - val_loss: 0.1765 - val_accuracy: 0.9475\n",
            "Epoch 2/3\n",
            "1875/1875 [==============================] - 57s 30ms/step - loss: 0.1765 - accuracy: 0.9513 - val_loss: 0.0884 - val_accuracy: 0.9740\n",
            "Epoch 3/3\n",
            "1875/1875 [==============================] - 58s 31ms/step - loss: 0.1153 - accuracy: 0.9681 - val_loss: 0.0728 - val_accuracy: 0.9777\n"
          ],
          "name": "stdout"
        },
        {
          "output_type": "execute_result",
          "data": {
            "text/plain": [
              "<tensorflow.python.keras.callbacks.History at 0x7f0cfc5c65c0>"
            ]
          },
          "metadata": {
            "tags": []
          },
          "execution_count": 4
        }
      ]
    },
    {
      "cell_type": "markdown",
      "metadata": {
        "id": "tuzqD3tUaWlA"
      },
      "source": [
        "## here i am running the same as above but with CuDNNLSTM\r\n",
        "All i have to do is remove activation relu and it is running as CuDNNLSTM much faster"
      ]
    },
    {
      "cell_type": "code",
      "metadata": {
        "colab": {
          "base_uri": "https://localhost:8080/"
        },
        "id": "X3Y-SqycZd3P",
        "outputId": "6b4b910e-5fbd-4708-ff5d-614a13e12f3f"
      },
      "source": [
        "model = Sequential()\r\n",
        "model.add(LSTM(128, input_shape=(x_train.shape[1:]),  return_sequences=True))\r\n",
        "model.add(Dropout(0.2))\r\n",
        "\r\n",
        "model.add(LSTM(128))\r\n",
        "model.add(Dropout(0.1))\r\n",
        "\r\n",
        "model.add(Dense(32, activation='relu'))\r\n",
        "model.add(Dropout(0.2))\r\n",
        "\r\n",
        "model.add(Dense(10, activation='softmax'))\r\n",
        "\r\n",
        "opt = tf.keras.optimizers.Adam(learning_rate=1e-3, decay= 1e-5) # decay: its \r\n",
        "# helping learning rate to make smaller steps, and not big so that it misses the \r\n",
        "# optimal minimum\r\n",
        "\r\n",
        "model.compile(\r\n",
        "    loss='sparse_categorical_crossentropy',\r\n",
        "    optimizer=opt,\r\n",
        "    metrics=['accuracy'],\r\n",
        ")\r\n",
        "\r\n",
        "model.fit(x_train,\r\n",
        "          y_train,\r\n",
        "          epochs=3,\r\n",
        "          validation_data=(x_test, y_test))"
      ],
      "execution_count": 7,
      "outputs": [
        {
          "output_type": "stream",
          "text": [
            "Epoch 1/3\n",
            "1875/1875 [==============================] - 18s 6ms/step - loss: 0.7613 - accuracy: 0.7443 - val_loss: 0.1433 - val_accuracy: 0.9541\n",
            "Epoch 2/3\n",
            "1875/1875 [==============================] - 11s 6ms/step - loss: 0.1414 - accuracy: 0.9611 - val_loss: 0.0835 - val_accuracy: 0.9752\n",
            "Epoch 3/3\n",
            "1875/1875 [==============================] - 11s 6ms/step - loss: 0.0875 - accuracy: 0.9764 - val_loss: 0.0605 - val_accuracy: 0.9838\n"
          ],
          "name": "stdout"
        },
        {
          "output_type": "execute_result",
          "data": {
            "text/plain": [
              "<tensorflow.python.keras.callbacks.History at 0x7f0c512fc898>"
            ]
          },
          "metadata": {
            "tags": []
          },
          "execution_count": 7
        }
      ]
    },
    {
      "cell_type": "code",
      "metadata": {
        "id": "6h0A0CSTXFlF"
      },
      "source": [
        ""
      ],
      "execution_count": null,
      "outputs": []
    }
  ]
}